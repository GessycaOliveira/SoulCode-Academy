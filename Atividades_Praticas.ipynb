{
  "nbformat": 4,
  "nbformat_minor": 0,
  "metadata": {
    "colab": {
      "provenance": [],
      "toc_visible": true,
      "authorship_tag": "ABX9TyMgayQESPo6hhD8AwcwPvHI",
      "include_colab_link": true
    },
    "kernelspec": {
      "name": "python3",
      "display_name": "Python 3"
    },
    "language_info": {
      "name": "python"
    }
  },
  "cells": [
    {
      "cell_type": "markdown",
      "metadata": {
        "id": "view-in-github",
        "colab_type": "text"
      },
      "source": [
        "<a href=\"https://colab.research.google.com/github/GessycaOliveira/SoulCode-Academy/blob/main/Atividades_Praticas.ipynb\" target=\"_parent\"><img src=\"https://colab.research.google.com/assets/colab-badge.svg\" alt=\"Open In Colab\"/></a>"
      ]
    },
    {
      "cell_type": "markdown",
      "source": [
        "# Atividade para praticar if, else e else."
      ],
      "metadata": {
        "id": "hdOWe-dxri8D"
      }
    },
    {
      "cell_type": "markdown",
      "source": [
        "## 1 - Faça um algoritmo que leia um número inteiro e diga se ele é maior, menor ou igual a 10."
      ],
      "metadata": {
        "id": "L36huuV_CwEn"
      }
    },
    {
      "cell_type": "code",
      "execution_count": 12,
      "metadata": {
        "colab": {
          "base_uri": "https://localhost:8080/"
        },
        "id": "NCEel1SwRtDh",
        "outputId": "210bd39f-f94d-4997-c3a9-4ce6f51f8d19"
      },
      "outputs": [
        {
          "output_type": "stream",
          "name": "stdout",
          "text": [
            "Digite um número inteiro: 7\n",
            "O número 7 é menor que 10.\n"
          ]
        }
      ],
      "source": [
        "num1 = int(input(\"Digite um número inteiro: \"))\n",
        "if num1 > 10:\n",
        "    print(f\"O número {num1} é maior que 10.\")\n",
        "elif num1 < 10:\n",
        "    print(f\"O número {num1} é menor que 10.\")\n",
        "else:\n",
        "    print(f\"O número {num1} é igual a 10.\")"
      ]
    },
    {
      "cell_type": "markdown",
      "source": [
        "## 2 - Faça um algoritmo que leia dois números inteiros e apresente na tela o maior deles ou se eles são iguais."
      ],
      "metadata": {
        "id": "S8zz0Qp7F2fh"
      }
    },
    {
      "cell_type": "code",
      "source": [
        "n1 = int(input(\"Digite um número inteiro: \"))\n",
        "n2 = int(input(\"Digite outro número inteiro: \"))\n",
        "if n1 > n2:\n",
        "    print(f\"O número {n1} é maior que {n2}\")\n",
        "elif n1 < n2:\n",
        "    print(f\"O número {n2} é maior que {n1}\")\n",
        "else:\n",
        "    print(f\"{n1} e {n2} são iguais.\")"
      ],
      "metadata": {
        "colab": {
          "base_uri": "https://localhost:8080/"
        },
        "id": "bhhhJGQzSq4n",
        "outputId": "296d3132-b687-4a1c-8956-1faa732a049e"
      },
      "execution_count": 2,
      "outputs": [
        {
          "output_type": "stream",
          "name": "stdout",
          "text": [
            "Digite um número inteiro: 3\n",
            "Digite outro número inteiro: 4\n",
            "O número 4 é maior que 3\n"
          ]
        }
      ]
    },
    {
      "cell_type": "markdown",
      "source": [
        "## 3 - Crie um algoritmo que leia um número e diga se ele está no intervalo fechado entre 25 e 200."
      ],
      "metadata": {
        "id": "pEIuYdY9JNqt"
      }
    },
    {
      "cell_type": "code",
      "source": [
        "print(\"Para descobrir se o número pertence ao intervalo de números entre 25 - 200, preencha o campo abaixo:\")\n",
        "num3 = float(input(\"Digite um número: \"))\n",
        "if num3 >= 25 and num3 <= 200:\n",
        "    print(f\"O número {num3} está dentro do intervalo.\")\n",
        "else:\n",
        "   print(f\"O número {num3} não está dentro do intervalo.\")"
      ],
      "metadata": {
        "colab": {
          "base_uri": "https://localhost:8080/"
        },
        "id": "nB0nLrY2ITQC",
        "outputId": "f1f978c5-1988-4767-afca-8f13c85c89f8"
      },
      "execution_count": 21,
      "outputs": [
        {
          "output_type": "stream",
          "name": "stdout",
          "text": [
            "Para descobrir se o número pertence ao intervalo de números entre 25 - 200, preencha o campo abaixo:\n",
            "Digite um número: 24.99\n",
            "O número 24.99 não está dentro do intervalo.\n"
          ]
        }
      ]
    },
    {
      "cell_type": "markdown",
      "source": [
        "## 4 - Crie um algoritmo que leia um número e informe na tela se o mesmo é positivo. Caso seja, mostre o número na tela."
      ],
      "metadata": {
        "id": "kqiF1-lWJVlI"
      }
    },
    {
      "cell_type": "code",
      "source": [
        "print(\"Descubra se o número é positivo ou negativo preenchendo o campo abaixo:\")\n",
        "num4 = int(input(\"Digite um número: \"))\n",
        "if num4 > 0 :\n",
        "    print(f\"O número {num4} é positivo.\")\n",
        "else:\n",
        "    pass"
      ],
      "metadata": {
        "colab": {
          "base_uri": "https://localhost:8080/"
        },
        "id": "OOGu2FEHTfIX",
        "outputId": "37eb0f36-9ec9-4cbc-8a74-3819f7f6d9a6"
      },
      "execution_count": 126,
      "outputs": [
        {
          "output_type": "stream",
          "name": "stdout",
          "text": [
            "Descubra se o número é positivo ou negativo preenchendo o campo abaixo:\n",
            "Digite um número: 7\n",
            "O número 7 é positivo.\n"
          ]
        }
      ]
    },
    {
      "cell_type": "markdown",
      "source": [
        "## 5 - Crie um algoritmo que leia um número e informe se ele é divisível por 7."
      ],
      "metadata": {
        "id": "G0vshQMFA0QY"
      }
    },
    {
      "cell_type": "code",
      "source": [
        "num5 = float(input(\"Digite um número: \"))\n",
        "if (num5 % 7 == 0):\n",
        "    print(f\"O número {num5} é divisível por 7.\")\n",
        "else:\n",
        "    print(f\"O número {num5} não é divisível por 7.\")"
      ],
      "metadata": {
        "colab": {
          "base_uri": "https://localhost:8080/"
        },
        "id": "QcIRkF_6A1PG",
        "outputId": "f7478abd-347f-4530-b190-acf143705c35"
      },
      "execution_count": 90,
      "outputs": [
        {
          "output_type": "stream",
          "name": "stdout",
          "text": [
            "Digite um número: 21\n",
            "O número 21 é divisível por 7.\n"
          ]
        }
      ]
    },
    {
      "cell_type": "markdown",
      "source": [
        "## 6 - Crie um algoritmo que leia um número e diga se ele é par ou ímpar."
      ],
      "metadata": {
        "id": "ZmwCqn2uiTFp"
      }
    },
    {
      "cell_type": "code",
      "source": [
        "num6 = int(input(\"Digite um número inteiro: \"))\n",
        "if num6 % 2 == 0:\n",
        "    print(f\"O número {num6} é par.\")\n",
        "else:\n",
        "    print(f\"O número {num6} é impar.\")"
      ],
      "metadata": {
        "colab": {
          "base_uri": "https://localhost:8080/"
        },
        "id": "6thmufeIiXTt",
        "outputId": "8db07f34-a17f-479f-fc3d-6934c369decb"
      },
      "execution_count": 25,
      "outputs": [
        {
          "name": "stdout",
          "output_type": "stream",
          "text": [
            "Digite um número inteiro: 0\n"
          ]
        }
      ]
    },
    {
      "cell_type": "markdown",
      "source": [
        "## 7 - Escreva um programa em Python que solicite ao usuário que digite uma letra. Em seguida, verifique se a letra digitada é uma vogal ou não."
      ],
      "metadata": {
        "id": "P_sFOB6RdUmF"
      }
    },
    {
      "cell_type": "code",
      "source": [
        "print(\"Teste para saber se a letra é vogal ou não.\")\n",
        "letra = str(input(\"Digite uma letra: \"))\n",
        "vogais = ['a','A','e','E','i','I','o','O','u','U']\n",
        "if letra in vogais:\n",
        "    print(f\"{letra} é uma vogal.\")\n",
        "else:\n",
        "    print(f\"{letra} não é uma vogal.\")"
      ],
      "metadata": {
        "colab": {
          "base_uri": "https://localhost:8080/"
        },
        "id": "-EP1egQIQgZl",
        "outputId": "80612325-ac53-4c7f-d3c7-c97900bfbc9a"
      },
      "execution_count": 171,
      "outputs": [
        {
          "output_type": "stream",
          "name": "stdout",
          "text": [
            "Teste para saber se a letra é vogal ou não.\n",
            "Digite uma letra: 4\n",
            "4 não é uma vogal.\n"
          ]
        }
      ]
    },
    {
      "cell_type": "markdown",
      "source": [
        "## 8 - Escreva um programa que solicite ao usuário três notas de um aluno e calcule a média. Em seguida, exiba a média e uma mensagem informando se o aluno foi aprovado (média maior ou igual a 7) ou reprovado."
      ],
      "metadata": {
        "id": "D9Tbf0KnZIhK"
      }
    },
    {
      "cell_type": "code",
      "source": [
        "print(\"Calcule sua média final preenchendo os campos a seguir:\")\n",
        "n1 = float(input(\"Digite sua 1ª nota (0-10).\"))\n",
        "n2 = float(input(\"Digite sua 2ª nota (0-10).\"))\n",
        "n3 = float(input(\"Digite sua 3ª nota (0-10).\"))\n",
        "\n",
        "soma = n1+n2+n3\n",
        "print(f\"A soma das suas notas é: {soma:.1f}\")\n",
        "media = soma/3\n",
        "print(f\"A sua média é: {media:.1f}\")\n",
        "\n",
        "if media <= 7.0:\n",
        "    print(\"Infelizmente você está REPROVADO!(Estude + e chore - na próxima vez!)\")\n",
        "else:\n",
        "    print(\"Parabéns, você está APROVADO!(Aproveite as férias!)\")"
      ],
      "metadata": {
        "colab": {
          "base_uri": "https://localhost:8080/"
        },
        "id": "wKH9XFjMTwRj",
        "outputId": "9aa48203-2365-4f7d-a5e3-e6da6bd4a6a7"
      },
      "execution_count": 79,
      "outputs": [
        {
          "output_type": "stream",
          "name": "stdout",
          "text": [
            "Calcule sua média final preenchendo os campos a seguir:\n",
            "Digite sua 1ª nota (0-10).9\n",
            "Digite sua 2ª nota (0-10).6.9\n",
            "Digite sua 3ª nota (0-10).9\n",
            "A soma das suas notas é: 24.9\n",
            "A sua média é: 8.3\n",
            "Parabéns, você está APROVADO!(Aproveite as férias!)\n"
          ]
        }
      ]
    },
    {
      "cell_type": "markdown",
      "source": [
        "## 9 - Escreva um programa que solicite ao usuário os comprimentos dos três lados de um triângulo. Em seguida, exiba uma mensagem informando se o triângulo é equilátero (todos os lados iguais), isósceles (dois lados iguais) ou escaleno (todos os lados diferentes)."
      ],
      "metadata": {
        "id": "o2SSDqKFY5a1"
      }
    },
    {
      "cell_type": "code",
      "source": [
        "l1 = float(input(\"Digite o 1º valor: \"))\n",
        "l2 = float(input(\"Digite o 2º valor: \"))\n",
        "l3 = float(input(\"Digite o 3º valor: \"))\n",
        "\n",
        "#Verificando se os valores fomam um triangulo:\n",
        "if l1 < (l2 + l3) and l2 < (l1 + l3) and l3 < (l2 + l3):\n",
        "    tri = True\n",
        "else:\n",
        "    tri = False\n",
        "#Validando a informação pro usuário\n",
        "if tri == True:\n",
        "    print(\"As medidas informadas formam um triangulo.\")\n",
        "else:\n",
        "    print(\"As medidas informadas não formam um triangulo.\")\n",
        "\n",
        "#Verificando qual tipo de triangulo é\n",
        "if tri == True:\n",
        "    if l1 == l2 and l2 == l3:\n",
        "        print(\"O triângulo é equilátero (todos os lados iguais).\")\n",
        "    elif l1==l2 or l1==l3 or l2==l3:\n",
        "        print(\"O triângulo é escaleno (todos os lados diferentes).\")\n",
        "    else:\n",
        "        print(\"O triângulo é isósceles (dois lados iguais).\")\n",
        "\n",
        "else:\n",
        "    pass"
      ],
      "metadata": {
        "colab": {
          "base_uri": "https://localhost:8080/"
        },
        "id": "_eRvHLBnb9Ts",
        "outputId": "de51d183-cfd0-4cf2-e022-a3da6e9bc981"
      },
      "execution_count": 44,
      "outputs": [
        {
          "output_type": "stream",
          "name": "stdout",
          "text": [
            "Digite o 1º valor: 3\n",
            "Digite o 2º valor: 4\n",
            "Digite o 3º valor: 5\n",
            "As medidas informadas formam um triangulo.\n",
            "O triângulo é isósceles (dois lados iguais).\n"
          ]
        }
      ]
    },
    {
      "cell_type": "markdown",
      "source": [
        "## 10 - Escreva um programa que solicite ao usuário sua idade e exiba uma mensagem informando em qual faixa etária ele se encontra: criança (0-12 anos), adolescente (13-17 anos), adulto (18-59 anos) ou idoso (60 anos ou mais)."
      ],
      "metadata": {
        "id": "1MjdgxCQU45i"
      }
    },
    {
      "cell_type": "code",
      "source": [
        "print(\"Para saber sua faixa étaria de acordo com sua idade preencha o campo abaixo:\")\n",
        "idade = int(input(\"Digite sua idade: \"))\n",
        "\n",
        "if idade <= 12:\n",
        "    print(\"Você é uma criança.\")\n",
        "elif idade <= 17:\n",
        "    print(\"Você é adolescente.\")\n",
        "elif idade <= 59:\n",
        "    print(\"Você é adulto.\")\n",
        "else:\n",
        "    print(\"Você é idoso.\")"
      ],
      "metadata": {
        "colab": {
          "base_uri": "https://localhost:8080/"
        },
        "id": "6P8yIdekVAUw",
        "outputId": "b33bb1a1-729d-437c-84f3-e4a1fc5ea134"
      },
      "execution_count": 178,
      "outputs": [
        {
          "output_type": "stream",
          "name": "stdout",
          "text": [
            "Para saber sua faixa étaria de acordo com sua idade preencha o campo abaixo:\n",
            "Digite sua idade: 20\n",
            "Você é adulto.\n"
          ]
        }
      ]
    }
  ]
}